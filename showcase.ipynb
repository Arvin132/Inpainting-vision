{
 "cells": [
  {
   "cell_type": "markdown",
   "metadata": {},
   "source": [
    "## CS484 Final Project: Image inpainting using Object removal\n",
    "\n",
    "Hello all\n",
    "This is the showcase of our project"
   ]
  },
  {
   "cell_type": "markdown",
   "metadata": {},
   "source": [
    "#### Section 1: Data gathering and cleaning\n",
    "downloading the data and storing it on local file made easy. might create a seprate python file to streamline the process on the notebook ? "
   ]
  },
  {
   "cell_type": "code",
   "execution_count": 2,
   "metadata": {},
   "outputs": [
    {
     "name": "stdout",
     "output_type": "stream",
     "text": [
      "Requirement already satisfied: deeplake in c:\\users\\qhuyn\\anaconda3\\lib\\site-packages (3.9.31)\n",
      "Requirement already satisfied: numpy<2.0 in c:\\users\\qhuyn\\anaconda3\\lib\\site-packages (from deeplake) (1.26.4)\n",
      "Requirement already satisfied: pillow~=10.4.0 in c:\\users\\qhuyn\\anaconda3\\lib\\site-packages (from deeplake) (10.4.0)\n",
      "Requirement already satisfied: boto3 in c:\\users\\qhuyn\\anaconda3\\lib\\site-packages (from deeplake) (1.35.76)\n",
      "Requirement already satisfied: click in c:\\users\\qhuyn\\anaconda3\\lib\\site-packages (from deeplake) (8.1.7)\n",
      "Requirement already satisfied: pathos in c:\\users\\qhuyn\\anaconda3\\lib\\site-packages (from deeplake) (0.3.3)\n",
      "Requirement already satisfied: humbug>=0.3.1 in c:\\users\\qhuyn\\anaconda3\\lib\\site-packages (from deeplake) (0.3.2)\n",
      "Requirement already satisfied: tqdm in c:\\users\\qhuyn\\anaconda3\\lib\\site-packages (from deeplake) (4.65.0)\n",
      "Requirement already satisfied: lz4 in c:\\users\\qhuyn\\anaconda3\\lib\\site-packages (from deeplake) (4.3.2)\n",
      "Requirement already satisfied: pyjwt in c:\\users\\qhuyn\\anaconda3\\lib\\site-packages (from deeplake) (2.4.0)\n",
      "Requirement already satisfied: pydantic in c:\\users\\qhuyn\\anaconda3\\lib\\site-packages (from deeplake) (1.10.12)\n",
      "Requirement already satisfied: requests in c:\\users\\qhuyn\\anaconda3\\lib\\site-packages (from humbug>=0.3.1->deeplake) (2.31.0)\n",
      "Requirement already satisfied: botocore<1.36.0,>=1.35.76 in c:\\users\\qhuyn\\anaconda3\\lib\\site-packages (from boto3->deeplake) (1.35.76)\n",
      "Requirement already satisfied: jmespath<2.0.0,>=0.7.1 in c:\\users\\qhuyn\\anaconda3\\lib\\site-packages (from boto3->deeplake) (1.0.1)\n",
      "Requirement already satisfied: s3transfer<0.11.0,>=0.10.0 in c:\\users\\qhuyn\\anaconda3\\lib\\site-packages (from boto3->deeplake) (0.10.4)\n",
      "Requirement already satisfied: colorama in c:\\users\\qhuyn\\anaconda3\\lib\\site-packages (from click->deeplake) (0.4.6)\n",
      "Requirement already satisfied: ppft>=1.7.6.9 in c:\\users\\qhuyn\\anaconda3\\lib\\site-packages (from pathos->deeplake) (1.7.6.9)\n",
      "Requirement already satisfied: dill>=0.3.9 in c:\\users\\qhuyn\\anaconda3\\lib\\site-packages (from pathos->deeplake) (0.3.9)\n",
      "Requirement already satisfied: pox>=0.3.5 in c:\\users\\qhuyn\\anaconda3\\lib\\site-packages (from pathos->deeplake) (0.3.5)\n",
      "Requirement already satisfied: multiprocess>=0.70.17 in c:\\users\\qhuyn\\anaconda3\\lib\\site-packages (from pathos->deeplake) (0.70.17)\n",
      "Requirement already satisfied: typing-extensions>=4.2.0 in c:\\users\\qhuyn\\anaconda3\\lib\\site-packages (from pydantic->deeplake) (4.9.0)\n",
      "Requirement already satisfied: python-dateutil<3.0.0,>=2.1 in c:\\users\\qhuyn\\anaconda3\\lib\\site-packages (from botocore<1.36.0,>=1.35.76->boto3->deeplake) (2.8.2)\n",
      "Requirement already satisfied: urllib3!=2.2.0,<3,>=1.25.4 in c:\\users\\qhuyn\\anaconda3\\lib\\site-packages (from botocore<1.36.0,>=1.35.76->boto3->deeplake) (2.0.7)\n",
      "Requirement already satisfied: charset-normalizer<4,>=2 in c:\\users\\qhuyn\\anaconda3\\lib\\site-packages (from requests->humbug>=0.3.1->deeplake) (2.0.4)\n",
      "Requirement already satisfied: idna<4,>=2.5 in c:\\users\\qhuyn\\anaconda3\\lib\\site-packages (from requests->humbug>=0.3.1->deeplake) (3.4)\n",
      "Requirement already satisfied: certifi>=2017.4.17 in c:\\users\\qhuyn\\anaconda3\\lib\\site-packages (from requests->humbug>=0.3.1->deeplake) (2024.8.30)\n",
      "Requirement already satisfied: six>=1.5 in c:\\users\\qhuyn\\anaconda3\\lib\\site-packages (from python-dateutil<3.0.0,>=2.1->botocore<1.36.0,>=1.35.76->boto3->deeplake) (1.16.0)\n"
     ]
    }
   ],
   "source": [
    "! pip install deeplake"
   ]
  },
  {
   "cell_type": "code",
   "execution_count": null,
   "metadata": {},
   "outputs": [
    {
     "name": "stderr",
     "output_type": "stream",
     "text": [
      "c:\\Users\\qhuyn\\anaconda3\\Lib\\site-packages\\deeplake\\util\\check_latest_version.py:32: UserWarning: A newer version of deeplake (4.0.3) is available. It's recommended that you update to the latest version using `pip install -U deeplake`.\n",
      "  warnings.warn(\n",
      "-"
     ]
    },
    {
     "name": "stdout",
     "output_type": "stream",
     "text": [
      "Opening dataset in read-only mode as you don't have write permissions.\n"
     ]
    },
    {
     "name": "stderr",
     "output_type": "stream",
     "text": [
      " \r"
     ]
    },
    {
     "name": "stdout",
     "output_type": "stream",
     "text": [
      "This dataset can be visualized in Jupyter Notebook by ds.visualize() or at https://app.activeloop.ai/activeloop/places205\n",
      "\n"
     ]
    },
    {
     "name": "stderr",
     "output_type": "stream",
     "text": [
      "/"
     ]
    },
    {
     "name": "stdout",
     "output_type": "stream",
     "text": [
      "hub://activeloop/places205 loaded successfully.\n",
      "\n"
     ]
    },
    {
     "name": "stderr",
     "output_type": "stream",
     "text": [
      " "
     ]
    },
    {
     "name": "stdout",
     "output_type": "stream",
     "text": [
      "HINT: Please forward the port - 11685 to your local machine, if you are running on the cloud.\n"
     ]
    },
    {
     "data": {
      "text/html": [
       "\n",
       "        <iframe\n",
       "            width=\"90%\"\n",
       "            height=\"800\"\n",
       "            src=\"https://app.activeloop.ai/visualizer/hub?url=hub://activeloop/places205&token=PUBLIC_TOKEN_______________________________________________________________________________________________________________________________________________________\"\n",
       "            frameborder=\"0\"\n",
       "            allowfullscreen\n",
       "            \n",
       "        ></iframe>\n",
       "        "
      ],
      "text/plain": [
       "<IPython.lib.display.IFrame at 0x1660b3bf010>"
      ]
     },
     "metadata": {},
     "output_type": "display_data"
    },
    {
     "name": "stdout",
     "output_type": "stream",
     "text": [
      " * Serving Flask app 'dataset_visualizer'\n",
      " * Debug mode: off\n"
     ]
    }
   ],
   "source": [
    "from torch.utils.data import DataLoader\n",
    "import torchvision.io as tvio\n",
    "import torchvision.transforms as tfs\n",
    "import torchvision.transforms.functional as tF\n",
    "\n",
    "from download_dataset import DatasetDownloader\n",
    "import numpy as np\n",
    "import matplotlib.pyplot as plt\n",
    "\n",
    "from utility_functions import RectanglePatch, RandomHFlip, RandomVFlip, PairColorJitter, RandomResizeCrop, PairToTensors, PairNormalize, MakePair\n",
    "from torch.utils.data import Dataset"
   ]
  },
  {
   "cell_type": "code",
   "execution_count": null,
   "metadata": {},
   "outputs": [],
   "source": [
    "#ds = DatasetDownloader.get_places()\n",
    "#ds.visualize()"
   ]
  },
  {
   "cell_type": "markdown",
   "metadata": {},
   "source": [
    "#### Section 2: Object detection and removal\n",
    "for this section we will be using either two methods for patch selection:\n",
    "- simple rectangle patch\n",
    "- Object selection using deep segmentaiton methods with the help  of labels like in A5 ? (optional) \n",
    "\n",
    "The goal of this section is to create the dataset that is ready to be used for training/validating. for each image in the data set we should have an (Image - patch, Image) in the final dataset, ready to be trained (or in the least, the region to be removed is somehow indicated?)"
   ]
  },
  {
   "cell_type": "code",
   "execution_count": null,
   "metadata": {},
   "outputs": [],
   "source": [
    "\n",
    "training_img_transform = tfs.Compose([  \n",
    "  MakePair(),\n",
    "  RandomHFlip(),\n",
    "  RandomVFlip(),\n",
    "  PairColorJitter(),\n",
    "  RandomResizeCrop(size=256, min_scale=0.7, max_scale=1.3),\n",
    "  RectanglePatch(patch_size=(100,100)),\n",
    "  # PairToTensors()\n",
    "  # PairNormalize(mean = ???, std = ???)\n",
    "  ])\n",
    "\n",
    "validation_img_transform = tfs.Compose([\n",
    "    MakePair(),\n",
    "    PairToTensors(),\n",
    "   # PairNormalize( mean = ???, std = ???)\n",
    "])"
   ]
  },
  {
   "cell_type": "code",
   "execution_count": null,
   "metadata": {},
   "outputs": [],
   "source": [
    "ds = DatasetDownloader.get_places()\n",
    "training_data, validation_data = ds.random_split([0.8, 0.2])\n",
    "\n",
    "class CustomPlaces(Dataset):\n",
    "    def __init__(self, data, transform=None):\n",
    "\n",
    "        self.ds = data\n",
    "        self.transform = transform\n",
    "        train_dataset, test_dataset = torch.utils.data.random_split(self.ds, [0.8, 0.2])\n",
    "\n",
    "    def __len__(self):\n",
    "        return len(self.ds)\n",
    "\n",
    "    def __getitem__(self, idx):\n",
    "        img = ds.images[idx].numpy().copy()\n",
    "        withPatch, target = self.transform(img)\n",
    "        return withPatch, target\n",
    "\n",
    "training_ds = CustomPlaces(data = training_data, transform=training_img_transform)\n",
    "validating_ds = CustomPlaces(data = validation_data, transform=validation_img_transform)"
   ]
  },
  {
   "cell_type": "code",
   "execution_count": null,
   "metadata": {},
   "outputs": [],
   "source": [
    "#feel free to delete\n",
    "x = training_ds[3]\n",
    "\n",
    "plt.figure(figsize=(20, 8))\n",
    "plt.subplot(131)\n",
    "plt.imshow(x[0], vmin=0, vmax=255)\n",
    "plt.title('with patch')\n",
    "plt.axis('off')\n",
    "\n",
    "plt.subplot(132)\n",
    "plt.imshow(x[1], vmin=0, vmax=255)\n",
    "plt.title('target')\n",
    "plt.axis('off')"
   ]
  },
  {
   "cell_type": "code",
   "execution_count": null,
   "metadata": {},
   "outputs": [],
   "source": [
    "# these are just copied from A5\n",
    "TRAIN_BATCH_SIZE = 4\n",
    "NUM_WORKERS = 0\n",
    "\n",
    "train_loader = DataLoader(training_ds, batch_size=TRAIN_BATCH_SIZE, num_workers=NUM_WORKERS, shuffle=True)\n",
    "val_loader = DataLoader(validating_ds, batch_size=1, num_workers=NUM_WORKERS, shuffle=False)"
   ]
  },
  {
   "cell_type": "markdown",
   "metadata": {},
   "source": [
    "#### Section 3: Creating the  model for the network\n",
    "the first simple approach would be to use an autoencoder and self-supervision to fit the model to the dataset.\n",
    "\n",
    "questions:\n",
    "- how good would the image quality be?\n",
    "- what if we change the location of the patch?\n",
    "- how would loss functions affect the quality of the output?\n",
    "- what if patch was not rectangular?\n",
    "- how to avoid overfitting?"
   ]
  },
  {
   "cell_type": "markdown",
   "metadata": {},
   "source": [
    "#### Section 3.1: Training the model, displaying the results"
   ]
  },
  {
   "cell_type": "markdown",
   "metadata": {},
   "source": [
    "#### Section 4: GANS, creating competition for the network using a \"detector\""
   ]
  },
  {
   "cell_type": "markdown",
   "metadata": {},
   "source": [
    "#### Section 4.1: Training the model, displaying the results"
   ]
  },
  {
   "cell_type": "markdown",
   "metadata": {},
   "source": [
    "#### Section 5(if we had time): using image segmentation from assignment 4 part 2, to remove objects from image and using network from before to fill in the \"patch\""
   ]
  },
  {
   "cell_type": "markdown",
   "metadata": {},
   "source": []
  }
 ],
 "metadata": {
  "kernelspec": {
   "display_name": "base",
   "language": "python",
   "name": "python3"
  },
  "language_info": {
   "codemirror_mode": {
    "name": "ipython",
    "version": 3
   },
   "file_extension": ".py",
   "mimetype": "text/x-python",
   "name": "python",
   "nbconvert_exporter": "python",
   "pygments_lexer": "ipython3",
   "version": "3.12.2"
  }
 },
 "nbformat": 4,
 "nbformat_minor": 2
}
